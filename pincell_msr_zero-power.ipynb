{
 "cells": [
  {
   "cell_type": "code",
   "execution_count": 28,
   "id": "8b2785df",
   "metadata": {},
   "outputs": [],
   "source": [
    "%matplotlib inline\n",
    "from math import pi\n",
    "import openmc\n",
    "import openmc.deplete\n",
    "import matplotlib.pyplot as plt\n",
    "from matplotlib.pyplot import Line2D"
   ]
  },
  {
   "cell_type": "code",
   "execution_count": 29,
   "id": "45acfbc9",
   "metadata": {},
   "outputs": [],
   "source": [
    "# Instantiate some Materials and register the appropriate Nuclides\n",
    "u238 = openmc.Material(name='source')\n",
    "u238.set_density('g/cm3', 10.29769)\n",
    "u238.add_nuclide('U238', 1.)\n",
    "\n",
    "helium = openmc.Material(name='sink')\n",
    "helium.set_density('g/cm3', 0.001598)\n",
    "helium.add_element('He', 2.4044e-4)\n",
    "helium.depletable = True\n",
    "\n",
    "# Define overall material\n",
    "material = openmc.Materials([u238, helium])"
   ]
  },
  {
   "cell_type": "code",
   "execution_count": 30,
   "id": "be80a9b7",
   "metadata": {},
   "outputs": [],
   "source": [
    "# Define surfaces\n",
    "width = 1.25984\n",
    "height = 200\n",
    "radius = 2\n",
    "fuel_or = openmc.ZCylinder(r=0.39218, name='Fuel OR', boundary_type='reflective')\n",
    "z_top = openmc.ZPlane(z0=height/2, name='Pin TOP', boundary_type='vacuum')\n",
    "z_bot = openmc.ZPlane(z0=-height/2, name='Pin BOT', boundary_type='vacuum')\n",
    "surf = openmc.Sphere(x0=10, r=radius, boundary_type = 'vacuum')\n",
    "\n",
    "# Define cells\n",
    "fuel = openmc.Cell(fill=uo2, region=-fuel_or & -z_top & +z_bot)\n",
    "sink = openmc.Cell(fill=helium, region=-ofc_surf)\n",
    "\n",
    "# Define overall geometry\n",
    "geometry = openmc.Geometry([fuel, sink])"
   ]
  },
  {
   "cell_type": "code",
   "execution_count": 31,
   "id": "047209ce",
   "metadata": {},
   "outputs": [],
   "source": [
    "# Set material volume for depletion\n",
    "fuel_vol = pi * fuel_or.r**2 * height\n",
    "sink_vol = 4 / 3 * pi * radius**3 "
   ]
  },
  {
   "cell_type": "code",
   "execution_count": 32,
   "id": "ffb4a60e",
   "metadata": {},
   "outputs": [],
   "source": [
    "# Instantiate a Settings object, set all runtime parameters, and export to XML\n",
    "settings = openmc.Settings()\n",
    "settings.batches = 100\n",
    "settings.inactive = 10\n",
    "settings.particles = 1000\n",
    "\n",
    "# Create an initial uniform spatial source distribution over fissionable zones\n",
    "bounds = [-0.62992, -0.62992, -100, 0.62992, 0.62992, 100]\n",
    "uniform_dist = openmc.stats.Box(bounds[:3], bounds[3:], only_fissionable=True)\n",
    "settings.source = openmc.source.Source(space=uniform_dist)\n",
    "\n",
    "#Build the model\n",
    "model = openmc.Model(geometry=geometry, materials=material, settings=settings)"
   ]
  },
  {
   "cell_type": "code",
   "execution_count": 17,
   "id": "be46b587",
   "metadata": {},
   "outputs": [
    {
     "data": {
      "image/png": "[encoded data removed]",
      "text/plain": [
       "<IPython.core.display.Image object>"
      ]
     },
     "metadata": {},
     "output_type": "display_data"
    }
   ],
   "source": [
    "# Create plot\n",
    "geometry.export_to_xml()\n",
    "material.export_to_xml()\n",
    "plot = openmc.Plot.from_geometry(geometry)\n",
    "plot.basis = 'xz'\n",
    "plot.width = (20,40)\n",
    "plot.pixels = (100,500)\n",
    "plot.color_by = 'material'\n",
    "plot.colors = {u238:'red', helium:'cyan'}\n",
    "openmc.plot_inline(plot)"
   ]
  },
  {
   "cell_type": "markdown",
   "id": "736aee9a",
   "metadata": {},
   "source": [
    "# Standard depletion"
   ]
  },
  {
   "cell_type": "code",
   "execution_count": 33,
   "id": "ac103e03",
   "metadata": {},
   "outputs": [
    {
     "name": "stdout",
     "output_type": "stream",
     "text": [
      "                                %%%%%%%%%%%%%%%\n",
      "                           %%%%%%%%%%%%%%%%%%%%%%%%\n",
      "                        %%%%%%%%%%%%%%%%%%%%%%%%%%%%%%\n",
      "                      %%%%%%%%%%%%%%%%%%%%%%%%%%%%%%%%%%\n",
      "                    %%%%%%%%%%%%%%%%%%%%%%%%%%%%%%%%%%%%%%\n",
      "                   %%%%%%%%%%%%%%%%%%%%%%%%%%%%%%%%%%%%%%%%\n",
      "                                    %%%%%%%%%%%%%%%%%%%%%%%%\n",
      "                                     %%%%%%%%%%%%%%%%%%%%%%%%\n",
      "                 ###############      %%%%%%%%%%%%%%%%%%%%%%%%\n",
      "                ##################     %%%%%%%%%%%%%%%%%%%%%%%\n",
      "                ###################     %%%%%%%%%%%%%%%%%%%%%%%\n",
      "                ####################     %%%%%%%%%%%%%%%%%%%%%%\n",
      "                #####################     %%%%%%%%%%%%%%%%%%%%%\n",
      "                ######################     %%%%%%%%%%%%%%%%%%%%\n",
      "                #######################     %%%%%%%%%%%%%%%%%%\n",
      "                 #######################     %%%%%%%%%%%%%%%%%\n",
      "                 ######################     %%%%%%%%%%%%%%%%%\n",
      "                  ####################     %%%%%%%%%%%%%%%%%\n",
      "                    #################     %%%%%%%%%%%%%%%%%\n",
      "                     ###############     %%%%%%%%%%%%%%%%\n",
      "                       ############     %%%%%%%%%%%%%%%\n",
      "                          ########     %%%%%%%%%%%%%%\n",
      "                                      %%%%%%%%%%%\n",
      "\n",
      "                 | The OpenMC Monte Carlo Code\n",
      "       Copyright | 2011-2022 MIT, UChicago Argonne LLC, and contributors\n",
      "         License | https://docs.openmc.org/en/latest/license.html\n",
      "         Version | 0.13.2\n",
      "        Git SHA1 | 030f73a8690ed19e91806e46c8caf338d252e74a\n",
      "       Date/Time | 2023-01-26 14:41:20\n",
      "   MPI Processes | 1\n",
      "  OpenMP Threads | 56\n",
      "\n",
      " Reading settings XML file...\n",
      " Reading cross sections XML file...\n",
      " Reading materials XML file...\n",
      " Reading geometry XML file...\n",
      " Reading U238 from /home/lorenzo/Documents/cross_sections/endfb80_hdf5/U238.h5\n",
      " Reading He3 from /home/lorenzo/Documents/cross_sections/endfb80_hdf5/He3.h5\n",
      " Reading He4 from /home/lorenzo/Documents/cross_sections/endfb80_hdf5/He4.h5\n",
      " Minimum neutron data temperature: 0 K\n",
      " Maximum neutron data temperature: 1.7976931348623157e+308 K\n",
      " Preparing distributed cell instances...\n",
      " Reading plot XML file...\n",
      " Writing summary.h5 file...\n",
      "[openmc.deplete] t=0.0 s, dt=86400.0 s, source=0\n",
      " Reading I135 from /home/lorenzo/Documents/cross_sections/endfb80_hdf5/I135.h5\n",
      " Reading Xe135 from /home/lorenzo/Documents/cross_sections/endfb80_hdf5/Xe135.h5\n",
      " Reading Xe136 from /home/lorenzo/Documents/cross_sections/endfb80_hdf5/Xe136.h5\n",
      " Reading Cs135 from /home/lorenzo/Documents/cross_sections/endfb80_hdf5/Cs135.h5\n",
      " Reading Gd157 from /home/lorenzo/Documents/cross_sections/endfb80_hdf5/Gd157.h5\n",
      " Reading Gd156 from /home/lorenzo/Documents/cross_sections/endfb80_hdf5/Gd156.h5\n",
      " Reading U234 from /home/lorenzo/Documents/cross_sections/endfb80_hdf5/U234.h5\n",
      " Reading U235 from /home/lorenzo/Documents/cross_sections/endfb80_hdf5/U235.h5\n",
      " Creating state point openmc_simulation_n0.h5...\n",
      "Timestep: 0 --> keff: 0.00000\n",
      "[openmc.deplete] t=86400.0 s, dt=86400.0 s, source=0\n",
      " Creating state point openmc_simulation_n1.h5...\n",
      "Timestep: 1 --> keff: 0.00000\n",
      "[openmc.deplete] t=172800.0 s, dt=86400.0 s, source=0\n",
      " Creating state point openmc_simulation_n2.h5...\n",
      "Timestep: 2 --> keff: 0.00000\n",
      "[openmc.deplete] t=259200.0 s, dt=86400.0 s, source=0\n",
      " Creating state point openmc_simulation_n3.h5...\n",
      "Timestep: 3 --> keff: 0.00000\n",
      "[openmc.deplete] t=345600.0 s, dt=86400.0 s, source=0\n",
      " Creating state point openmc_simulation_n4.h5...\n",
      "Timestep: 4 --> keff: 0.00000\n",
      "[openmc.deplete] t=432000.0 (final operator evaluation)\n",
      " Creating state point openmc_simulation_n5.h5...\n"
     ]
    }
   ],
   "source": [
    "u238.volume = fuel_vol\n",
    "helium.volume = sink_vol\n",
    "#Create depletion \"operator\"\n",
    "chain_file = 'chain_simple.xml'\n",
    "op = openmc.deplete.CoupledOperator(model, chain_file)\n",
    "# Perform simulation using the predictor algorithm\n",
    "time_steps = [1.0, 1.0, 1.0, 1.0, 1.0]  # days\n",
    "power = 0  # W\n",
    "integrator = openmc.deplete.PredictorIntegrator(op, time_steps, power, timestep_units='d')\n",
    "integrator.integrate()"
   ]
  },
  {
   "cell_type": "code",
   "execution_count": 34,
   "id": "bcdcf2ff",
   "metadata": {},
   "outputs": [],
   "source": [
    "# Open results file\n",
    "results = openmc.deplete.Results(\"depletion_results.h5\")\n",
    "\n",
    "# Obtain U238 concentration as a function of time\n",
    "n_u8_1 = results.get_atoms(u238, 'U238')[1]\n",
    "n_u8_1_ofc = results.get_atoms(helium, 'U238')[1]\n"
   ]
  },
  {
   "cell_type": "markdown",
   "id": "9169809d",
   "metadata": {},
   "source": [
    "\n",
    "# MSR"
   ]
  },
  {
   "cell_type": "code",
   "execution_count": 45,
   "id": "dc5501d5",
   "metadata": {},
   "outputs": [
    {
     "name": "stdout",
     "output_type": "stream",
     "text": [
      "                                %%%%%%%%%%%%%%%\n",
      "                           %%%%%%%%%%%%%%%%%%%%%%%%\n",
      "                        %%%%%%%%%%%%%%%%%%%%%%%%%%%%%%\n",
      "                      %%%%%%%%%%%%%%%%%%%%%%%%%%%%%%%%%%\n",
      "                    %%%%%%%%%%%%%%%%%%%%%%%%%%%%%%%%%%%%%%\n",
      "                   %%%%%%%%%%%%%%%%%%%%%%%%%%%%%%%%%%%%%%%%\n",
      "                                    %%%%%%%%%%%%%%%%%%%%%%%%\n",
      "                                     %%%%%%%%%%%%%%%%%%%%%%%%\n",
      "                 ###############      %%%%%%%%%%%%%%%%%%%%%%%%\n",
      "                ##################     %%%%%%%%%%%%%%%%%%%%%%%\n",
      "                ###################     %%%%%%%%%%%%%%%%%%%%%%%\n",
      "                ####################     %%%%%%%%%%%%%%%%%%%%%%\n",
      "                #####################     %%%%%%%%%%%%%%%%%%%%%\n",
      "                ######################     %%%%%%%%%%%%%%%%%%%%\n",
      "                #######################     %%%%%%%%%%%%%%%%%%\n",
      "                 #######################     %%%%%%%%%%%%%%%%%\n",
      "                 ######################     %%%%%%%%%%%%%%%%%\n",
      "                  ####################     %%%%%%%%%%%%%%%%%\n",
      "                    #################     %%%%%%%%%%%%%%%%%\n",
      "                     ###############     %%%%%%%%%%%%%%%%\n",
      "                       ############     %%%%%%%%%%%%%%%\n",
      "                          ########     %%%%%%%%%%%%%%\n",
      "                                      %%%%%%%%%%%\n",
      "\n",
      "                 | The OpenMC Monte Carlo Code\n",
      "       Copyright | 2011-2022 MIT, UChicago Argonne LLC, and contributors\n",
      "         License | https://docs.openmc.org/en/latest/license.html\n",
      "         Version | 0.13.2\n",
      "        Git SHA1 | 030f73a8690ed19e91806e46c8caf338d252e74a\n",
      "       Date/Time | 2023-01-26 14:46:27\n",
      "   MPI Processes | 1\n",
      "  OpenMP Threads | 56\n",
      "\n",
      " Reading settings XML file...\n",
      " Reading cross sections XML file...\n",
      " Reading materials XML file...\n",
      " Reading geometry XML file...\n",
      " Reading U238 from /home/lorenzo/Documents/cross_sections/endfb80_hdf5/U238.h5\n",
      " Reading He3 from /home/lorenzo/Documents/cross_sections/endfb80_hdf5/He3.h5\n",
      " Reading He4 from /home/lorenzo/Documents/cross_sections/endfb80_hdf5/He4.h5\n",
      " Minimum neutron data temperature: 0 K\n",
      " Maximum neutron data temperature: 1.7976931348623157e+308 K\n",
      " Preparing distributed cell instances...\n",
      " Reading plot XML file...\n",
      " Writing summary.h5 file...\n",
      "[openmc.deplete] t=0.0 s, dt=86400.0 s, source=0\n",
      " Reading I135 from /home/lorenzo/Documents/cross_sections/endfb80_hdf5/I135.h5\n",
      " Reading Xe135 from /home/lorenzo/Documents/cross_sections/endfb80_hdf5/Xe135.h5\n",
      " Reading Xe136 from /home/lorenzo/Documents/cross_sections/endfb80_hdf5/Xe136.h5\n",
      " Reading Cs135 from /home/lorenzo/Documents/cross_sections/endfb80_hdf5/Cs135.h5\n",
      " Reading Gd157 from /home/lorenzo/Documents/cross_sections/endfb80_hdf5/Gd157.h5\n",
      " Reading Gd156 from /home/lorenzo/Documents/cross_sections/endfb80_hdf5/Gd156.h5\n",
      " Reading U234 from /home/lorenzo/Documents/cross_sections/endfb80_hdf5/U234.h5\n",
      " Reading U235 from /home/lorenzo/Documents/cross_sections/endfb80_hdf5/U235.h5\n",
      " Creating state point openmc_simulation_n0.h5...\n",
      "Timestep: 0 --> keff: 0.00000\n",
      "[openmc.deplete] t=86400.0 s, dt=86400.0 s, source=0\n",
      " Creating state point openmc_simulation_n1.h5...\n",
      "Timestep: 1 --> keff: 0.00000\n",
      "[openmc.deplete] t=172800.0 s, dt=86400.0 s, source=0\n",
      " Creating state point openmc_simulation_n2.h5...\n",
      "Timestep: 2 --> keff: 0.00000\n",
      "[openmc.deplete] t=259200.0 s, dt=86400.0 s, source=0\n",
      " Creating state point openmc_simulation_n3.h5...\n",
      "Timestep: 3 --> keff: 0.00000\n",
      "[openmc.deplete] t=345600.0 s, dt=86400.0 s, source=0\n",
      " Creating state point openmc_simulation_n4.h5...\n",
      "Timestep: 4 --> keff: 0.00000\n",
      "[openmc.deplete] t=432000.0 (final operator evaluation)\n",
      " Creating state point openmc_simulation_n5.h5...\n"
     ]
    }
   ],
   "source": [
    "# Re-create the depletion \"operator\"\n",
    "op = openmc.deplete.CoupledOperator(model, chain_file)\n",
    "#Create msr continuous instance\n",
    "msr_c = openmc.deplete.msr.MsrContinuous(op, model)\n",
    "# Cycle time as the time needed to circulate the all volume\n",
    "cycle_time=1\n",
    "msr_c.set_removal_rate('source', ['U'], 1/cycle_time, dest_mat = 'sink' )\n",
    "# Pass the msr instance to the integrator object\n",
    "integrator = openmc.deplete.PredictorIntegrator(op, time_steps, power, msr_continuous=msr_c,  timestep_units='d')\n",
    "integrator.integrate()"
   ]
  },
  {
   "cell_type": "code",
   "execution_count": 46,
   "id": "6a5a321a",
   "metadata": {
    "scrolled": false
   },
   "outputs": [
    {
     "data": {
      "image/png": "[encoded data removed]",
      "text/plain": [
       "<Figure size 640x480 with 1 Axes>"
      ]
     },
     "metadata": {},
     "output_type": "display_data"
    }
   ],
   "source": [
    "line1 = Line2D([0], [0], color='black')\n",
    "line2 = Line2D([0], [0], linestyle='--', color='black')\n",
    "labels = ['source', 'sink']\n",
    "\n",
    "# Open results file\n",
    "results = openmc.deplete.Results(\"depletion_results.h5\")\n",
    "\n",
    "# Obtain U238 concentration as a function of time\n",
    "n_u8_2 = results.get_atoms(u238, 'U238')[1]\n",
    "n_u8_2_ofc = results.get_atoms(helium, 'U238')[1]\n",
    "\n",
    "\n",
    "fig, ax = plt.subplots()\n",
    "ax.plot(time, n_u8_1, c='r', label=\"w/o msr\")\n",
    "ax.plot(time, n_u8_2, c='g', label=\"w msr\")\n",
    "ax.plot(time, n_u8_1_ofc, '--', c='r')\n",
    "ax.plot(time, n_u8_2_ofc, '--', c='g')\n",
    "ax.set_xlabel(\"Time [d]\")\n",
    "ax.set_ylabel(\"U238 atoms\")\n",
    "ax.set_yscale('log')\n",
    "leg1=plt.legend([line1, line2],labels,loc='lower center')\n",
    "leg2=plt.legend()\n",
    "ax.add_artist(leg1)\n",
    "ax.add_artist(leg2)\n",
    "plt.title(f'Cycle time: {cycle_time} [s]')\n",
    "plt.show()\n",
    "\n"
   ]
  }
 ],
 "metadata": {
  "kernelspec": {
   "display_name": "Python 3 (ipykernel)",
   "language": "python",
   "name": "python3"
  },
  "language_info": {
   "codemirror_mode": {
    "name": "ipython",
    "version": 3
   },
   "file_extension": ".py",
   "mimetype": "text/x-python",
   "name": "python",
   "nbconvert_exporter": "python",
   "pygments_lexer": "ipython3",
   "version": "3.10.7"
  }
 },
 "nbformat": 4,
 "nbformat_minor": 5
}
